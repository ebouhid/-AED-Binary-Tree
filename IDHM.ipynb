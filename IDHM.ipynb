{
  "nbformat": 4,
  "nbformat_minor": 0,
  "metadata": {
    "colab": {
      "name": "IDHM.ipynb",
      "provenance": [],
      "collapsed_sections": [
        "r_MgyAzkk-Uf",
        "jpTyTl5slE_k"
      ],
      "authorship_tag": "ABX9TyME72sNrEA8/T/EhG+mPYvh",
      "include_colab_link": true
    },
    "kernelspec": {
      "name": "python3",
      "display_name": "Python 3"
    },
    "language_info": {
      "name": "python"
    }
  },
  "cells": [
    {
      "cell_type": "markdown",
      "metadata": {
        "id": "view-in-github",
        "colab_type": "text"
      },
      "source": [
        "<a href=\"https://colab.research.google.com/github/dudubouneto/-AED-Binary-Tree/blob/main/IDHM.ipynb\" target=\"_parent\"><img src=\"https://colab.research.google.com/assets/colab-badge.svg\" alt=\"Open In Colab\"/></a>"
      ]
    },
    {
      "cell_type": "markdown",
      "source": [
        "#Proposta de discretização - IDHM"
      ],
      "metadata": {
        "id": "nAKyl7RJcov0"
      }
    },
    {
      "cell_type": "markdown",
      "source": [
        "##Faixas de IDHM do IPEA"
      ],
      "metadata": {
        "id": "r_MgyAzkk-Uf"
      }
    },
    {
      "cell_type": "markdown",
      "source": [
        "https://www.ipea.gov.br/portal/images/stories/PDFs/130729_AtlasPNUD_2013.pdf\n",
        "\n",
        "\n",
        "\n",
        "*   0-499: Muito Baixo\n",
        "*   500-599: Baixo\n",
        "*   600-699: Médio\n",
        "*   700-799: Alto\n",
        "*   800-1000: Muito Alto\n",
        "\n"
      ],
      "metadata": {
        "id": "XkPvwiHSfsLb"
      }
    },
    {
      "cell_type": "markdown",
      "source": [
        "**OBS.:** O IDHM é a média geométrica da expectativa de vida, do IDHM educação (Escolaridade da pop.adulta e fluxo escolar da pop. jovem) e da renda per capita (utiliza o PNB). Assim, o índice não contém outros parâmetros da base de dados."
      ],
      "metadata": {
        "id": "GdFAG-lQj-GP"
      }
    },
    {
      "cell_type": "code",
      "execution_count": null,
      "metadata": {
        "id": "m7olEr4yfpJZ"
      },
      "outputs": [],
      "source": [
        "import pandas as pd\n",
        "import matplotlib.pyplot as plt\n",
        "import seaborn as sns\n",
        "from google.colab import drive"
      ]
    },
    {
      "cell_type": "code",
      "source": [
        "# carregando dados\n",
        "drive.mount('/content/drive_eduardo')"
      ],
      "metadata": {
        "colab": {
          "base_uri": "https://localhost:8080/"
        },
        "id": "ksvi_XW9itPn",
        "outputId": "f170a9c6-b267-4cd5-fb64-9ba1d0f6bd8c"
      },
      "execution_count": null,
      "outputs": [
        {
          "output_type": "stream",
          "name": "stdout",
          "text": [
            "Drive already mounted at /content/drive_eduardo; to attempt to forcibly remount, call drive.mount(\"/content/drive_eduardo\", force_remount=True).\n"
          ]
        }
      ]
    },
    {
      "cell_type": "code",
      "source": [
        "# carregando dataframe\n",
        "ibge_sp = pd.read_csv('/content/drive_eduardo/MyDrive/Colab Notebooks/Discretização das variáveis/Data/final_novo_ibge_sp - final_novo_ibge_sp_cpy.csv')\n",
        "ibge_sp.head()"
      ],
      "metadata": {
        "colab": {
          "base_uri": "https://localhost:8080/",
          "height": 496
        },
        "id": "9Ph3MTLKjxz6",
        "outputId": "378a5b3c-d112-4953-e1e4-d702a462a303"
      },
      "execution_count": null,
      "outputs": [
        {
          "output_type": "execute_result",
          "data": {
            "text/plain": [
              "          Município  Codigo_IBGE      Gentílico  \\\n",
              "0        ADAMANTINA      3500105  adamantinense   \n",
              "1            ADOLFO      3500204       adolfino   \n",
              "2             AGUAÍ      3500303       aguaiano   \n",
              "3    ÁGUAS DA PRATA      3500402       pratense   \n",
              "4  ÁGUAS DE LINDÓIA      3500501     lindoiense   \n",
              "\n",
              "                           Prefeito Área Territorial  População Estimada  \\\n",
              "0                     MARCIO CARDIM              412               35111   \n",
              "1           IZAEL ANTONIO FERNANDES              211                3554   \n",
              "2  JOSÉ ALEXANDRE PEREIRA DE ARAÚJO              475               36648   \n",
              "3     REGINA HELENA JANIZELO MORAES              143                8221   \n",
              "4              GILBERTO ABDOU HELOU               60               18808   \n",
              "\n",
              "  Densidade Demográfica Escolarização 6 a 14 anos  IDHM Mortalidade Infantil  \\\n",
              "0                 82,15                      97,6   790                11,63   \n",
              "1                 16,85                      98,6   730                19,23   \n",
              "2                 67,72                      95,8   715                16,06   \n",
              "3                 53,05                      98,8   781                25,32   \n",
              "4                287,16                      96,2   745                 8,37   \n",
              "\n",
              "  Receitas Realizadas Despesas empenhadas PIB per capita Latitude Longitude  \\\n",
              "0      16,071,867,925      13,708,366,993       30962,66      -22      -511   \n",
              "1       2,733,374,731       2,010,387,713       25867,75     -212      -496   \n",
              "2       8,409,476,006       7,216,873,408       28041,03     -221      -470   \n",
              "3       2,939,024,814       2,436,340,149       20683,88     -219      -467   \n",
              "4       8,694,922,213       7,520,147,793       26427,34     -225      -466   \n",
              "\n",
              "   Postos vacinação  Hospitais  Médicos  \n",
              "0                 4          0        0  \n",
              "1                 1          0        0  \n",
              "2                 5          0        0  \n",
              "3                 1          0        0  \n",
              "4                 4          0        0  "
            ],
            "text/html": [
              "\n",
              "  <div id=\"df-83d70ae4-1a9d-4163-81ed-1a0dab95acd1\">\n",
              "    <div class=\"colab-df-container\">\n",
              "      <div>\n",
              "<style scoped>\n",
              "    .dataframe tbody tr th:only-of-type {\n",
              "        vertical-align: middle;\n",
              "    }\n",
              "\n",
              "    .dataframe tbody tr th {\n",
              "        vertical-align: top;\n",
              "    }\n",
              "\n",
              "    .dataframe thead th {\n",
              "        text-align: right;\n",
              "    }\n",
              "</style>\n",
              "<table border=\"1\" class=\"dataframe\">\n",
              "  <thead>\n",
              "    <tr style=\"text-align: right;\">\n",
              "      <th></th>\n",
              "      <th>Município</th>\n",
              "      <th>Codigo_IBGE</th>\n",
              "      <th>Gentílico</th>\n",
              "      <th>Prefeito</th>\n",
              "      <th>Área Territorial</th>\n",
              "      <th>População Estimada</th>\n",
              "      <th>Densidade Demográfica</th>\n",
              "      <th>Escolarização 6 a 14 anos</th>\n",
              "      <th>IDHM</th>\n",
              "      <th>Mortalidade Infantil</th>\n",
              "      <th>Receitas Realizadas</th>\n",
              "      <th>Despesas empenhadas</th>\n",
              "      <th>PIB per capita</th>\n",
              "      <th>Latitude</th>\n",
              "      <th>Longitude</th>\n",
              "      <th>Postos vacinação</th>\n",
              "      <th>Hospitais</th>\n",
              "      <th>Médicos</th>\n",
              "    </tr>\n",
              "  </thead>\n",
              "  <tbody>\n",
              "    <tr>\n",
              "      <th>0</th>\n",
              "      <td>ADAMANTINA</td>\n",
              "      <td>3500105</td>\n",
              "      <td>adamantinense</td>\n",
              "      <td>MARCIO CARDIM</td>\n",
              "      <td>412</td>\n",
              "      <td>35111</td>\n",
              "      <td>82,15</td>\n",
              "      <td>97,6</td>\n",
              "      <td>790</td>\n",
              "      <td>11,63</td>\n",
              "      <td>16,071,867,925</td>\n",
              "      <td>13,708,366,993</td>\n",
              "      <td>30962,66</td>\n",
              "      <td>-22</td>\n",
              "      <td>-511</td>\n",
              "      <td>4</td>\n",
              "      <td>0</td>\n",
              "      <td>0</td>\n",
              "    </tr>\n",
              "    <tr>\n",
              "      <th>1</th>\n",
              "      <td>ADOLFO</td>\n",
              "      <td>3500204</td>\n",
              "      <td>adolfino</td>\n",
              "      <td>IZAEL ANTONIO FERNANDES</td>\n",
              "      <td>211</td>\n",
              "      <td>3554</td>\n",
              "      <td>16,85</td>\n",
              "      <td>98,6</td>\n",
              "      <td>730</td>\n",
              "      <td>19,23</td>\n",
              "      <td>2,733,374,731</td>\n",
              "      <td>2,010,387,713</td>\n",
              "      <td>25867,75</td>\n",
              "      <td>-212</td>\n",
              "      <td>-496</td>\n",
              "      <td>1</td>\n",
              "      <td>0</td>\n",
              "      <td>0</td>\n",
              "    </tr>\n",
              "    <tr>\n",
              "      <th>2</th>\n",
              "      <td>AGUAÍ</td>\n",
              "      <td>3500303</td>\n",
              "      <td>aguaiano</td>\n",
              "      <td>JOSÉ ALEXANDRE PEREIRA DE ARAÚJO</td>\n",
              "      <td>475</td>\n",
              "      <td>36648</td>\n",
              "      <td>67,72</td>\n",
              "      <td>95,8</td>\n",
              "      <td>715</td>\n",
              "      <td>16,06</td>\n",
              "      <td>8,409,476,006</td>\n",
              "      <td>7,216,873,408</td>\n",
              "      <td>28041,03</td>\n",
              "      <td>-221</td>\n",
              "      <td>-470</td>\n",
              "      <td>5</td>\n",
              "      <td>0</td>\n",
              "      <td>0</td>\n",
              "    </tr>\n",
              "    <tr>\n",
              "      <th>3</th>\n",
              "      <td>ÁGUAS DA PRATA</td>\n",
              "      <td>3500402</td>\n",
              "      <td>pratense</td>\n",
              "      <td>REGINA HELENA JANIZELO MORAES</td>\n",
              "      <td>143</td>\n",
              "      <td>8221</td>\n",
              "      <td>53,05</td>\n",
              "      <td>98,8</td>\n",
              "      <td>781</td>\n",
              "      <td>25,32</td>\n",
              "      <td>2,939,024,814</td>\n",
              "      <td>2,436,340,149</td>\n",
              "      <td>20683,88</td>\n",
              "      <td>-219</td>\n",
              "      <td>-467</td>\n",
              "      <td>1</td>\n",
              "      <td>0</td>\n",
              "      <td>0</td>\n",
              "    </tr>\n",
              "    <tr>\n",
              "      <th>4</th>\n",
              "      <td>ÁGUAS DE LINDÓIA</td>\n",
              "      <td>3500501</td>\n",
              "      <td>lindoiense</td>\n",
              "      <td>GILBERTO ABDOU HELOU</td>\n",
              "      <td>60</td>\n",
              "      <td>18808</td>\n",
              "      <td>287,16</td>\n",
              "      <td>96,2</td>\n",
              "      <td>745</td>\n",
              "      <td>8,37</td>\n",
              "      <td>8,694,922,213</td>\n",
              "      <td>7,520,147,793</td>\n",
              "      <td>26427,34</td>\n",
              "      <td>-225</td>\n",
              "      <td>-466</td>\n",
              "      <td>4</td>\n",
              "      <td>0</td>\n",
              "      <td>0</td>\n",
              "    </tr>\n",
              "  </tbody>\n",
              "</table>\n",
              "</div>\n",
              "      <button class=\"colab-df-convert\" onclick=\"convertToInteractive('df-83d70ae4-1a9d-4163-81ed-1a0dab95acd1')\"\n",
              "              title=\"Convert this dataframe to an interactive table.\"\n",
              "              style=\"display:none;\">\n",
              "        \n",
              "  <svg xmlns=\"http://www.w3.org/2000/svg\" height=\"24px\"viewBox=\"0 0 24 24\"\n",
              "       width=\"24px\">\n",
              "    <path d=\"M0 0h24v24H0V0z\" fill=\"none\"/>\n",
              "    <path d=\"M18.56 5.44l.94 2.06.94-2.06 2.06-.94-2.06-.94-.94-2.06-.94 2.06-2.06.94zm-11 1L8.5 8.5l.94-2.06 2.06-.94-2.06-.94L8.5 2.5l-.94 2.06-2.06.94zm10 10l.94 2.06.94-2.06 2.06-.94-2.06-.94-.94-2.06-.94 2.06-2.06.94z\"/><path d=\"M17.41 7.96l-1.37-1.37c-.4-.4-.92-.59-1.43-.59-.52 0-1.04.2-1.43.59L10.3 9.45l-7.72 7.72c-.78.78-.78 2.05 0 2.83L4 21.41c.39.39.9.59 1.41.59.51 0 1.02-.2 1.41-.59l7.78-7.78 2.81-2.81c.8-.78.8-2.07 0-2.86zM5.41 20L4 18.59l7.72-7.72 1.47 1.35L5.41 20z\"/>\n",
              "  </svg>\n",
              "      </button>\n",
              "      \n",
              "  <style>\n",
              "    .colab-df-container {\n",
              "      display:flex;\n",
              "      flex-wrap:wrap;\n",
              "      gap: 12px;\n",
              "    }\n",
              "\n",
              "    .colab-df-convert {\n",
              "      background-color: #E8F0FE;\n",
              "      border: none;\n",
              "      border-radius: 50%;\n",
              "      cursor: pointer;\n",
              "      display: none;\n",
              "      fill: #1967D2;\n",
              "      height: 32px;\n",
              "      padding: 0 0 0 0;\n",
              "      width: 32px;\n",
              "    }\n",
              "\n",
              "    .colab-df-convert:hover {\n",
              "      background-color: #E2EBFA;\n",
              "      box-shadow: 0px 1px 2px rgba(60, 64, 67, 0.3), 0px 1px 3px 1px rgba(60, 64, 67, 0.15);\n",
              "      fill: #174EA6;\n",
              "    }\n",
              "\n",
              "    [theme=dark] .colab-df-convert {\n",
              "      background-color: #3B4455;\n",
              "      fill: #D2E3FC;\n",
              "    }\n",
              "\n",
              "    [theme=dark] .colab-df-convert:hover {\n",
              "      background-color: #434B5C;\n",
              "      box-shadow: 0px 1px 3px 1px rgba(0, 0, 0, 0.15);\n",
              "      filter: drop-shadow(0px 1px 2px rgba(0, 0, 0, 0.3));\n",
              "      fill: #FFFFFF;\n",
              "    }\n",
              "  </style>\n",
              "\n",
              "      <script>\n",
              "        const buttonEl =\n",
              "          document.querySelector('#df-83d70ae4-1a9d-4163-81ed-1a0dab95acd1 button.colab-df-convert');\n",
              "        buttonEl.style.display =\n",
              "          google.colab.kernel.accessAllowed ? 'block' : 'none';\n",
              "\n",
              "        async function convertToInteractive(key) {\n",
              "          const element = document.querySelector('#df-83d70ae4-1a9d-4163-81ed-1a0dab95acd1');\n",
              "          const dataTable =\n",
              "            await google.colab.kernel.invokeFunction('convertToInteractive',\n",
              "                                                     [key], {});\n",
              "          if (!dataTable) return;\n",
              "\n",
              "          const docLinkHtml = 'Like what you see? Visit the ' +\n",
              "            '<a target=\"_blank\" href=https://colab.research.google.com/notebooks/data_table.ipynb>data table notebook</a>'\n",
              "            + ' to learn more about interactive tables.';\n",
              "          element.innerHTML = '';\n",
              "          dataTable['output_type'] = 'display_data';\n",
              "          await google.colab.output.renderOutput(dataTable, element);\n",
              "          const docLink = document.createElement('div');\n",
              "          docLink.innerHTML = docLinkHtml;\n",
              "          element.appendChild(docLink);\n",
              "        }\n",
              "      </script>\n",
              "    </div>\n",
              "  </div>\n",
              "  "
            ]
          },
          "metadata": {},
          "execution_count": 18
        }
      ]
    },
    {
      "cell_type": "code",
      "source": [
        "ibge_sp.info()"
      ],
      "metadata": {
        "colab": {
          "base_uri": "https://localhost:8080/"
        },
        "id": "Z8zZm8XpkceG",
        "outputId": "d0ccfe0b-827b-404d-d077-b0f65ce2276d"
      },
      "execution_count": null,
      "outputs": [
        {
          "output_type": "stream",
          "name": "stdout",
          "text": [
            "<class 'pandas.core.frame.DataFrame'>\n",
            "RangeIndex: 645 entries, 0 to 644\n",
            "Data columns (total 18 columns):\n",
            " #   Column                     Non-Null Count  Dtype \n",
            "---  ------                     --------------  ----- \n",
            " 0   Município                  645 non-null    object\n",
            " 1   Codigo_IBGE                645 non-null    int64 \n",
            " 2   Gentílico                  645 non-null    object\n",
            " 3   Prefeito                   645 non-null    object\n",
            " 4   Área Territorial           645 non-null    object\n",
            " 5   População Estimada         645 non-null    int64 \n",
            " 6   Densidade Demográfica      645 non-null    object\n",
            " 7   Escolarização 6 a 14 anos  645 non-null    object\n",
            " 8   IDHM                       645 non-null    int64 \n",
            " 9   Mortalidade Infantil       645 non-null    object\n",
            " 10  Receitas Realizadas        645 non-null    object\n",
            " 11  Despesas empenhadas        645 non-null    object\n",
            " 12  PIB per capita             645 non-null    object\n",
            " 13  Latitude                   645 non-null    object\n",
            " 14  Longitude                  645 non-null    object\n",
            " 15  Postos vacinação           645 non-null    int64 \n",
            " 16  Hospitais                  645 non-null    int64 \n",
            " 17  Médicos                    645 non-null    int64 \n",
            "dtypes: int64(6), object(12)\n",
            "memory usage: 90.8+ KB\n"
          ]
        }
      ]
    },
    {
      "cell_type": "code",
      "source": [
        "ibge_sp = ibge_sp[['Município','IDHM']]\n",
        "ibge_sp.head()"
      ],
      "metadata": {
        "id": "Sl66A-AtkjSI",
        "colab": {
          "base_uri": "https://localhost:8080/",
          "height": 206
        },
        "outputId": "6407a5f9-40ae-4785-a374-ebd83f23a026"
      },
      "execution_count": null,
      "outputs": [
        {
          "output_type": "execute_result",
          "data": {
            "text/plain": [
              "          Município  IDHM\n",
              "0        ADAMANTINA   790\n",
              "1            ADOLFO   730\n",
              "2             AGUAÍ   715\n",
              "3    ÁGUAS DA PRATA   781\n",
              "4  ÁGUAS DE LINDÓIA   745"
            ],
            "text/html": [
              "\n",
              "  <div id=\"df-0b548930-ac15-4354-8de2-3eedba3264f4\">\n",
              "    <div class=\"colab-df-container\">\n",
              "      <div>\n",
              "<style scoped>\n",
              "    .dataframe tbody tr th:only-of-type {\n",
              "        vertical-align: middle;\n",
              "    }\n",
              "\n",
              "    .dataframe tbody tr th {\n",
              "        vertical-align: top;\n",
              "    }\n",
              "\n",
              "    .dataframe thead th {\n",
              "        text-align: right;\n",
              "    }\n",
              "</style>\n",
              "<table border=\"1\" class=\"dataframe\">\n",
              "  <thead>\n",
              "    <tr style=\"text-align: right;\">\n",
              "      <th></th>\n",
              "      <th>Município</th>\n",
              "      <th>IDHM</th>\n",
              "    </tr>\n",
              "  </thead>\n",
              "  <tbody>\n",
              "    <tr>\n",
              "      <th>0</th>\n",
              "      <td>ADAMANTINA</td>\n",
              "      <td>790</td>\n",
              "    </tr>\n",
              "    <tr>\n",
              "      <th>1</th>\n",
              "      <td>ADOLFO</td>\n",
              "      <td>730</td>\n",
              "    </tr>\n",
              "    <tr>\n",
              "      <th>2</th>\n",
              "      <td>AGUAÍ</td>\n",
              "      <td>715</td>\n",
              "    </tr>\n",
              "    <tr>\n",
              "      <th>3</th>\n",
              "      <td>ÁGUAS DA PRATA</td>\n",
              "      <td>781</td>\n",
              "    </tr>\n",
              "    <tr>\n",
              "      <th>4</th>\n",
              "      <td>ÁGUAS DE LINDÓIA</td>\n",
              "      <td>745</td>\n",
              "    </tr>\n",
              "  </tbody>\n",
              "</table>\n",
              "</div>\n",
              "      <button class=\"colab-df-convert\" onclick=\"convertToInteractive('df-0b548930-ac15-4354-8de2-3eedba3264f4')\"\n",
              "              title=\"Convert this dataframe to an interactive table.\"\n",
              "              style=\"display:none;\">\n",
              "        \n",
              "  <svg xmlns=\"http://www.w3.org/2000/svg\" height=\"24px\"viewBox=\"0 0 24 24\"\n",
              "       width=\"24px\">\n",
              "    <path d=\"M0 0h24v24H0V0z\" fill=\"none\"/>\n",
              "    <path d=\"M18.56 5.44l.94 2.06.94-2.06 2.06-.94-2.06-.94-.94-2.06-.94 2.06-2.06.94zm-11 1L8.5 8.5l.94-2.06 2.06-.94-2.06-.94L8.5 2.5l-.94 2.06-2.06.94zm10 10l.94 2.06.94-2.06 2.06-.94-2.06-.94-.94-2.06-.94 2.06-2.06.94z\"/><path d=\"M17.41 7.96l-1.37-1.37c-.4-.4-.92-.59-1.43-.59-.52 0-1.04.2-1.43.59L10.3 9.45l-7.72 7.72c-.78.78-.78 2.05 0 2.83L4 21.41c.39.39.9.59 1.41.59.51 0 1.02-.2 1.41-.59l7.78-7.78 2.81-2.81c.8-.78.8-2.07 0-2.86zM5.41 20L4 18.59l7.72-7.72 1.47 1.35L5.41 20z\"/>\n",
              "  </svg>\n",
              "      </button>\n",
              "      \n",
              "  <style>\n",
              "    .colab-df-container {\n",
              "      display:flex;\n",
              "      flex-wrap:wrap;\n",
              "      gap: 12px;\n",
              "    }\n",
              "\n",
              "    .colab-df-convert {\n",
              "      background-color: #E8F0FE;\n",
              "      border: none;\n",
              "      border-radius: 50%;\n",
              "      cursor: pointer;\n",
              "      display: none;\n",
              "      fill: #1967D2;\n",
              "      height: 32px;\n",
              "      padding: 0 0 0 0;\n",
              "      width: 32px;\n",
              "    }\n",
              "\n",
              "    .colab-df-convert:hover {\n",
              "      background-color: #E2EBFA;\n",
              "      box-shadow: 0px 1px 2px rgba(60, 64, 67, 0.3), 0px 1px 3px 1px rgba(60, 64, 67, 0.15);\n",
              "      fill: #174EA6;\n",
              "    }\n",
              "\n",
              "    [theme=dark] .colab-df-convert {\n",
              "      background-color: #3B4455;\n",
              "      fill: #D2E3FC;\n",
              "    }\n",
              "\n",
              "    [theme=dark] .colab-df-convert:hover {\n",
              "      background-color: #434B5C;\n",
              "      box-shadow: 0px 1px 3px 1px rgba(0, 0, 0, 0.15);\n",
              "      filter: drop-shadow(0px 1px 2px rgba(0, 0, 0, 0.3));\n",
              "      fill: #FFFFFF;\n",
              "    }\n",
              "  </style>\n",
              "\n",
              "      <script>\n",
              "        const buttonEl =\n",
              "          document.querySelector('#df-0b548930-ac15-4354-8de2-3eedba3264f4 button.colab-df-convert');\n",
              "        buttonEl.style.display =\n",
              "          google.colab.kernel.accessAllowed ? 'block' : 'none';\n",
              "\n",
              "        async function convertToInteractive(key) {\n",
              "          const element = document.querySelector('#df-0b548930-ac15-4354-8de2-3eedba3264f4');\n",
              "          const dataTable =\n",
              "            await google.colab.kernel.invokeFunction('convertToInteractive',\n",
              "                                                     [key], {});\n",
              "          if (!dataTable) return;\n",
              "\n",
              "          const docLinkHtml = 'Like what you see? Visit the ' +\n",
              "            '<a target=\"_blank\" href=https://colab.research.google.com/notebooks/data_table.ipynb>data table notebook</a>'\n",
              "            + ' to learn more about interactive tables.';\n",
              "          element.innerHTML = '';\n",
              "          dataTable['output_type'] = 'display_data';\n",
              "          await google.colab.output.renderOutput(dataTable, element);\n",
              "          const docLink = document.createElement('div');\n",
              "          docLink.innerHTML = docLinkHtml;\n",
              "          element.appendChild(docLink);\n",
              "        }\n",
              "      </script>\n",
              "    </div>\n",
              "  </div>\n",
              "  "
            ]
          },
          "metadata": {},
          "execution_count": 20
        }
      ]
    },
    {
      "cell_type": "code",
      "source": [
        "bins = [0, 499, 599, 699, 799, 1000]\n",
        "labels = ['IDHM muito baixo', 'IDHM baixo', 'IDHM médio', 'IDHM alto', 'IDHM muito alto']\n",
        "ibge_sp['Classificacao_IDHM'] = pd.cut(ibge_sp['IDHM'], bins=bins, labels=labels)\n",
        "ibge_sp"
      ],
      "metadata": {
        "colab": {
          "base_uri": "https://localhost:8080/",
          "height": 528
        },
        "id": "DVB20vz0aPvn",
        "outputId": "3be2da2d-46af-49b6-c74b-202b7a53576f"
      },
      "execution_count": null,
      "outputs": [
        {
          "output_type": "stream",
          "name": "stderr",
          "text": [
            "/usr/local/lib/python3.7/dist-packages/ipykernel_launcher.py:3: SettingWithCopyWarning: \n",
            "A value is trying to be set on a copy of a slice from a DataFrame.\n",
            "Try using .loc[row_indexer,col_indexer] = value instead\n",
            "\n",
            "See the caveats in the documentation: https://pandas.pydata.org/pandas-docs/stable/user_guide/indexing.html#returning-a-view-versus-a-copy\n",
            "  This is separate from the ipykernel package so we can avoid doing imports until\n"
          ]
        },
        {
          "output_type": "execute_result",
          "data": {
            "text/plain": [
              "            Município  IDHM Classificacao_IDHM\n",
              "0          ADAMANTINA   790          IDHM alto\n",
              "1              ADOLFO   730          IDHM alto\n",
              "2               AGUAÍ   715          IDHM alto\n",
              "3      ÁGUAS DA PRATA   781          IDHM alto\n",
              "4    ÁGUAS DE LINDÓIA   745          IDHM alto\n",
              "..                ...   ...                ...\n",
              "640        VOTORANTIM   767          IDHM alto\n",
              "641       VOTUPORANGA   790          IDHM alto\n",
              "642          ZACARIAS   729          IDHM alto\n",
              "643         CHAVANTES   729          IDHM alto\n",
              "644      ESTIVA GERBI   740          IDHM alto\n",
              "\n",
              "[645 rows x 3 columns]"
            ],
            "text/html": [
              "\n",
              "  <div id=\"df-6b89ad2b-c113-4b60-a32a-f496dee43a37\">\n",
              "    <div class=\"colab-df-container\">\n",
              "      <div>\n",
              "<style scoped>\n",
              "    .dataframe tbody tr th:only-of-type {\n",
              "        vertical-align: middle;\n",
              "    }\n",
              "\n",
              "    .dataframe tbody tr th {\n",
              "        vertical-align: top;\n",
              "    }\n",
              "\n",
              "    .dataframe thead th {\n",
              "        text-align: right;\n",
              "    }\n",
              "</style>\n",
              "<table border=\"1\" class=\"dataframe\">\n",
              "  <thead>\n",
              "    <tr style=\"text-align: right;\">\n",
              "      <th></th>\n",
              "      <th>Município</th>\n",
              "      <th>IDHM</th>\n",
              "      <th>Classificacao_IDHM</th>\n",
              "    </tr>\n",
              "  </thead>\n",
              "  <tbody>\n",
              "    <tr>\n",
              "      <th>0</th>\n",
              "      <td>ADAMANTINA</td>\n",
              "      <td>790</td>\n",
              "      <td>IDHM alto</td>\n",
              "    </tr>\n",
              "    <tr>\n",
              "      <th>1</th>\n",
              "      <td>ADOLFO</td>\n",
              "      <td>730</td>\n",
              "      <td>IDHM alto</td>\n",
              "    </tr>\n",
              "    <tr>\n",
              "      <th>2</th>\n",
              "      <td>AGUAÍ</td>\n",
              "      <td>715</td>\n",
              "      <td>IDHM alto</td>\n",
              "    </tr>\n",
              "    <tr>\n",
              "      <th>3</th>\n",
              "      <td>ÁGUAS DA PRATA</td>\n",
              "      <td>781</td>\n",
              "      <td>IDHM alto</td>\n",
              "    </tr>\n",
              "    <tr>\n",
              "      <th>4</th>\n",
              "      <td>ÁGUAS DE LINDÓIA</td>\n",
              "      <td>745</td>\n",
              "      <td>IDHM alto</td>\n",
              "    </tr>\n",
              "    <tr>\n",
              "      <th>...</th>\n",
              "      <td>...</td>\n",
              "      <td>...</td>\n",
              "      <td>...</td>\n",
              "    </tr>\n",
              "    <tr>\n",
              "      <th>640</th>\n",
              "      <td>VOTORANTIM</td>\n",
              "      <td>767</td>\n",
              "      <td>IDHM alto</td>\n",
              "    </tr>\n",
              "    <tr>\n",
              "      <th>641</th>\n",
              "      <td>VOTUPORANGA</td>\n",
              "      <td>790</td>\n",
              "      <td>IDHM alto</td>\n",
              "    </tr>\n",
              "    <tr>\n",
              "      <th>642</th>\n",
              "      <td>ZACARIAS</td>\n",
              "      <td>729</td>\n",
              "      <td>IDHM alto</td>\n",
              "    </tr>\n",
              "    <tr>\n",
              "      <th>643</th>\n",
              "      <td>CHAVANTES</td>\n",
              "      <td>729</td>\n",
              "      <td>IDHM alto</td>\n",
              "    </tr>\n",
              "    <tr>\n",
              "      <th>644</th>\n",
              "      <td>ESTIVA GERBI</td>\n",
              "      <td>740</td>\n",
              "      <td>IDHM alto</td>\n",
              "    </tr>\n",
              "  </tbody>\n",
              "</table>\n",
              "<p>645 rows × 3 columns</p>\n",
              "</div>\n",
              "      <button class=\"colab-df-convert\" onclick=\"convertToInteractive('df-6b89ad2b-c113-4b60-a32a-f496dee43a37')\"\n",
              "              title=\"Convert this dataframe to an interactive table.\"\n",
              "              style=\"display:none;\">\n",
              "        \n",
              "  <svg xmlns=\"http://www.w3.org/2000/svg\" height=\"24px\"viewBox=\"0 0 24 24\"\n",
              "       width=\"24px\">\n",
              "    <path d=\"M0 0h24v24H0V0z\" fill=\"none\"/>\n",
              "    <path d=\"M18.56 5.44l.94 2.06.94-2.06 2.06-.94-2.06-.94-.94-2.06-.94 2.06-2.06.94zm-11 1L8.5 8.5l.94-2.06 2.06-.94-2.06-.94L8.5 2.5l-.94 2.06-2.06.94zm10 10l.94 2.06.94-2.06 2.06-.94-2.06-.94-.94-2.06-.94 2.06-2.06.94z\"/><path d=\"M17.41 7.96l-1.37-1.37c-.4-.4-.92-.59-1.43-.59-.52 0-1.04.2-1.43.59L10.3 9.45l-7.72 7.72c-.78.78-.78 2.05 0 2.83L4 21.41c.39.39.9.59 1.41.59.51 0 1.02-.2 1.41-.59l7.78-7.78 2.81-2.81c.8-.78.8-2.07 0-2.86zM5.41 20L4 18.59l7.72-7.72 1.47 1.35L5.41 20z\"/>\n",
              "  </svg>\n",
              "      </button>\n",
              "      \n",
              "  <style>\n",
              "    .colab-df-container {\n",
              "      display:flex;\n",
              "      flex-wrap:wrap;\n",
              "      gap: 12px;\n",
              "    }\n",
              "\n",
              "    .colab-df-convert {\n",
              "      background-color: #E8F0FE;\n",
              "      border: none;\n",
              "      border-radius: 50%;\n",
              "      cursor: pointer;\n",
              "      display: none;\n",
              "      fill: #1967D2;\n",
              "      height: 32px;\n",
              "      padding: 0 0 0 0;\n",
              "      width: 32px;\n",
              "    }\n",
              "\n",
              "    .colab-df-convert:hover {\n",
              "      background-color: #E2EBFA;\n",
              "      box-shadow: 0px 1px 2px rgba(60, 64, 67, 0.3), 0px 1px 3px 1px rgba(60, 64, 67, 0.15);\n",
              "      fill: #174EA6;\n",
              "    }\n",
              "\n",
              "    [theme=dark] .colab-df-convert {\n",
              "      background-color: #3B4455;\n",
              "      fill: #D2E3FC;\n",
              "    }\n",
              "\n",
              "    [theme=dark] .colab-df-convert:hover {\n",
              "      background-color: #434B5C;\n",
              "      box-shadow: 0px 1px 3px 1px rgba(0, 0, 0, 0.15);\n",
              "      filter: drop-shadow(0px 1px 2px rgba(0, 0, 0, 0.3));\n",
              "      fill: #FFFFFF;\n",
              "    }\n",
              "  </style>\n",
              "\n",
              "      <script>\n",
              "        const buttonEl =\n",
              "          document.querySelector('#df-6b89ad2b-c113-4b60-a32a-f496dee43a37 button.colab-df-convert');\n",
              "        buttonEl.style.display =\n",
              "          google.colab.kernel.accessAllowed ? 'block' : 'none';\n",
              "\n",
              "        async function convertToInteractive(key) {\n",
              "          const element = document.querySelector('#df-6b89ad2b-c113-4b60-a32a-f496dee43a37');\n",
              "          const dataTable =\n",
              "            await google.colab.kernel.invokeFunction('convertToInteractive',\n",
              "                                                     [key], {});\n",
              "          if (!dataTable) return;\n",
              "\n",
              "          const docLinkHtml = 'Like what you see? Visit the ' +\n",
              "            '<a target=\"_blank\" href=https://colab.research.google.com/notebooks/data_table.ipynb>data table notebook</a>'\n",
              "            + ' to learn more about interactive tables.';\n",
              "          element.innerHTML = '';\n",
              "          dataTable['output_type'] = 'display_data';\n",
              "          await google.colab.output.renderOutput(dataTable, element);\n",
              "          const docLink = document.createElement('div');\n",
              "          docLink.innerHTML = docLinkHtml;\n",
              "          element.appendChild(docLink);\n",
              "        }\n",
              "      </script>\n",
              "    </div>\n",
              "  </div>\n",
              "  "
            ]
          },
          "metadata": {},
          "execution_count": 21
        }
      ]
    },
    {
      "cell_type": "code",
      "source": [
        "ibge_sp.info()"
      ],
      "metadata": {
        "colab": {
          "base_uri": "https://localhost:8080/"
        },
        "id": "lVAol0IieTWm",
        "outputId": "aae16695-f0bb-4d68-e760-75367b075a76"
      },
      "execution_count": null,
      "outputs": [
        {
          "output_type": "stream",
          "name": "stdout",
          "text": [
            "<class 'pandas.core.frame.DataFrame'>\n",
            "RangeIndex: 645 entries, 0 to 644\n",
            "Data columns (total 3 columns):\n",
            " #   Column              Non-Null Count  Dtype   \n",
            "---  ------              --------------  -----   \n",
            " 0   Município           645 non-null    object  \n",
            " 1   IDHM                645 non-null    int64   \n",
            " 2   Classificacao_IDHM  645 non-null    category\n",
            "dtypes: category(1), int64(1), object(1)\n",
            "memory usage: 11.0+ KB\n"
          ]
        }
      ]
    },
    {
      "cell_type": "code",
      "source": [
        "ibge_sp['Classificacao_IDHM'].value_counts()"
      ],
      "metadata": {
        "colab": {
          "base_uri": "https://localhost:8080/"
        },
        "id": "ak7eWCL_fQAI",
        "outputId": "097a1aec-63c2-4279-b6d2-0e91cb324058"
      },
      "execution_count": null,
      "outputs": [
        {
          "output_type": "execute_result",
          "data": {
            "text/plain": [
              "IDHM alto           559\n",
              "IDHM médio           62\n",
              "IDHM muito alto      24\n",
              "IDHM muito baixo      0\n",
              "IDHM baixo            0\n",
              "Name: Classificacao_IDHM, dtype: int64"
            ]
          },
          "metadata": {},
          "execution_count": 23
        }
      ]
    },
    {
      "cell_type": "markdown",
      "source": [
        "###Histograma"
      ],
      "metadata": {
        "id": "lWX3NLqAfXuP"
      }
    },
    {
      "cell_type": "code",
      "source": [
        "plt.figure(figsize=(10,4))\n",
        "sns.histplot(data=ibge_sp['Classificacao_IDHM'])"
      ],
      "metadata": {
        "colab": {
          "base_uri": "https://localhost:8080/",
          "height": 297
        },
        "id": "sCLz8P98fP7A",
        "outputId": "e36d97bd-5f86-4d65-f49a-01200b6407ef"
      },
      "execution_count": null,
      "outputs": [
        {
          "output_type": "execute_result",
          "data": {
            "text/plain": [
              "<matplotlib.axes._subplots.AxesSubplot at 0x7f88f7d150d0>"
            ]
          },
          "metadata": {},
          "execution_count": 24
        },
        {
          "output_type": "display_data",
          "data": {
            "text/plain": [
              "<Figure size 720x288 with 1 Axes>"
            ],
            "image/png": "[encoded data removed]"
          },
          "metadata": {
            "needs_background": "light"
          }
        }
      ]
    },
    {
      "cell_type": "markdown",
      "source": [
        "Como uma maioria avassaladora cai na classificação de IDHM alto (87%), essa distribuição não é tão interessante para nós..."
      ],
      "metadata": {
        "id": "u-s_RCxQknvX"
      }
    },
    {
      "cell_type": "markdown",
      "source": [
        "##Distribuição por quartis"
      ],
      "metadata": {
        "id": "jpTyTl5slE_k"
      }
    },
    {
      "cell_type": "code",
      "source": [
        "ibge_sp.info()"
      ],
      "metadata": {
        "colab": {
          "base_uri": "https://localhost:8080/"
        },
        "id": "ZpyycXw8lvab",
        "outputId": "66af876a-f661-4fb1-e65d-84dc8e90ea72"
      },
      "execution_count": null,
      "outputs": [
        {
          "output_type": "stream",
          "name": "stdout",
          "text": [
            "<class 'pandas.core.frame.DataFrame'>\n",
            "RangeIndex: 645 entries, 0 to 644\n",
            "Data columns (total 3 columns):\n",
            " #   Column              Non-Null Count  Dtype   \n",
            "---  ------              --------------  -----   \n",
            " 0   Município           645 non-null    object  \n",
            " 1   IDHM                645 non-null    int64   \n",
            " 2   Classificacao_IDHM  645 non-null    category\n",
            "dtypes: category(1), int64(1), object(1)\n",
            "memory usage: 11.0+ KB\n"
          ]
        }
      ]
    },
    {
      "cell_type": "code",
      "source": [
        "plt.figure(figsize=(5,8))\n",
        "sns.boxplot(data=ibge_sp['IDHM'])"
      ],
      "metadata": {
        "colab": {
          "base_uri": "https://localhost:8080/",
          "height": 500
        },
        "id": "UZ2Yek_dl-k0",
        "outputId": "860fcf58-0a02-47f1-d912-48bc673fc2a5"
      },
      "execution_count": null,
      "outputs": [
        {
          "output_type": "execute_result",
          "data": {
            "text/plain": [
              "<matplotlib.axes._subplots.AxesSubplot at 0x7f88f7b31410>"
            ]
          },
          "metadata": {},
          "execution_count": 31
        },
        {
          "output_type": "display_data",
          "data": {
            "text/plain": [
              "<Figure size 360x576 with 1 Axes>"
            ],
            "image/png": "[encoded data removed]"
          },
          "metadata": {
            "needs_background": "light"
          }
        }
      ]
    },
    {
      "cell_type": "markdown",
      "source": [
        "Como há poucos outliers (e eles não são tão distoantes), iremos incluí-los sem criar uma bin separada (outliers de baixo serão considerados \"médios\" e os de cima \"muito altos\")."
      ],
      "metadata": {
        "id": "L8oAkETUxRMx"
      }
    },
    {
      "cell_type": "code",
      "source": [
        "bins = [0, ibge_sp['IDHM'].quantile(.25), ibge_sp['IDHM'].quantile(.5), ibge_sp['IDHM'].quantile(.75), ibge_sp['IDHM'].max()]\n",
        "labels = ['IDHM médio', 'IDHM médio-alto', 'IDHM alto', 'IDHM muito alto']\n",
        "ibge_sp['Classificacao_IDHM'] = pd.cut(ibge_sp['IDHM'], bins=bins, labels=labels)\n",
        "ibge_sp.info()"
      ],
      "metadata": {
        "colab": {
          "base_uri": "https://localhost:8080/"
        },
        "id": "nlwGoePYv5g4",
        "outputId": "1e287512-aede-4efe-d02c-e74e3715f6f6"
      },
      "execution_count": null,
      "outputs": [
        {
          "output_type": "stream",
          "name": "stdout",
          "text": [
            "<class 'pandas.core.frame.DataFrame'>\n",
            "RangeIndex: 645 entries, 0 to 644\n",
            "Data columns (total 3 columns):\n",
            " #   Column              Non-Null Count  Dtype   \n",
            "---  ------              --------------  -----   \n",
            " 0   Município           645 non-null    object  \n",
            " 1   IDHM                645 non-null    int64   \n",
            " 2   Classificacao_IDHM  645 non-null    category\n",
            "dtypes: category(1), int64(1), object(1)\n",
            "memory usage: 11.0+ KB\n"
          ]
        }
      ]
    },
    {
      "cell_type": "code",
      "source": [
        "ibge_sp.head()"
      ],
      "metadata": {
        "colab": {
          "base_uri": "https://localhost:8080/",
          "height": 206
        },
        "id": "1mnrAQHIw2Ay",
        "outputId": "67b1f574-5a34-479a-c0e2-a6e9a71d1d78"
      },
      "execution_count": null,
      "outputs": [
        {
          "output_type": "execute_result",
          "data": {
            "text/plain": [
              "          Município  IDHM Classificacao_IDHM\n",
              "0        ADAMANTINA   790    IDHM muito alto\n",
              "1            ADOLFO   730    IDHM médio-alto\n",
              "2             AGUAÍ   715         IDHM médio\n",
              "3    ÁGUAS DA PRATA   781    IDHM muito alto\n",
              "4  ÁGUAS DE LINDÓIA   745          IDHM alto"
            ],
            "text/html": [
              "\n",
              "  <div id=\"df-c606e74e-eef6-49ec-ba0f-bcbbd6dd7e4d\">\n",
              "    <div class=\"colab-df-container\">\n",
              "      <div>\n",
              "<style scoped>\n",
              "    .dataframe tbody tr th:only-of-type {\n",
              "        vertical-align: middle;\n",
              "    }\n",
              "\n",
              "    .dataframe tbody tr th {\n",
              "        vertical-align: top;\n",
              "    }\n",
              "\n",
              "    .dataframe thead th {\n",
              "        text-align: right;\n",
              "    }\n",
              "</style>\n",
              "<table border=\"1\" class=\"dataframe\">\n",
              "  <thead>\n",
              "    <tr style=\"text-align: right;\">\n",
              "      <th></th>\n",
              "      <th>Município</th>\n",
              "      <th>IDHM</th>\n",
              "      <th>Classificacao_IDHM</th>\n",
              "    </tr>\n",
              "  </thead>\n",
              "  <tbody>\n",
              "    <tr>\n",
              "      <th>0</th>\n",
              "      <td>ADAMANTINA</td>\n",
              "      <td>790</td>\n",
              "      <td>IDHM muito alto</td>\n",
              "    </tr>\n",
              "    <tr>\n",
              "      <th>1</th>\n",
              "      <td>ADOLFO</td>\n",
              "      <td>730</td>\n",
              "      <td>IDHM médio-alto</td>\n",
              "    </tr>\n",
              "    <tr>\n",
              "      <th>2</th>\n",
              "      <td>AGUAÍ</td>\n",
              "      <td>715</td>\n",
              "      <td>IDHM médio</td>\n",
              "    </tr>\n",
              "    <tr>\n",
              "      <th>3</th>\n",
              "      <td>ÁGUAS DA PRATA</td>\n",
              "      <td>781</td>\n",
              "      <td>IDHM muito alto</td>\n",
              "    </tr>\n",
              "    <tr>\n",
              "      <th>4</th>\n",
              "      <td>ÁGUAS DE LINDÓIA</td>\n",
              "      <td>745</td>\n",
              "      <td>IDHM alto</td>\n",
              "    </tr>\n",
              "  </tbody>\n",
              "</table>\n",
              "</div>\n",
              "      <button class=\"colab-df-convert\" onclick=\"convertToInteractive('df-c606e74e-eef6-49ec-ba0f-bcbbd6dd7e4d')\"\n",
              "              title=\"Convert this dataframe to an interactive table.\"\n",
              "              style=\"display:none;\">\n",
              "        \n",
              "  <svg xmlns=\"http://www.w3.org/2000/svg\" height=\"24px\"viewBox=\"0 0 24 24\"\n",
              "       width=\"24px\">\n",
              "    <path d=\"M0 0h24v24H0V0z\" fill=\"none\"/>\n",
              "    <path d=\"M18.56 5.44l.94 2.06.94-2.06 2.06-.94-2.06-.94-.94-2.06-.94 2.06-2.06.94zm-11 1L8.5 8.5l.94-2.06 2.06-.94-2.06-.94L8.5 2.5l-.94 2.06-2.06.94zm10 10l.94 2.06.94-2.06 2.06-.94-2.06-.94-.94-2.06-.94 2.06-2.06.94z\"/><path d=\"M17.41 7.96l-1.37-1.37c-.4-.4-.92-.59-1.43-.59-.52 0-1.04.2-1.43.59L10.3 9.45l-7.72 7.72c-.78.78-.78 2.05 0 2.83L4 21.41c.39.39.9.59 1.41.59.51 0 1.02-.2 1.41-.59l7.78-7.78 2.81-2.81c.8-.78.8-2.07 0-2.86zM5.41 20L4 18.59l7.72-7.72 1.47 1.35L5.41 20z\"/>\n",
              "  </svg>\n",
              "      </button>\n",
              "      \n",
              "  <style>\n",
              "    .colab-df-container {\n",
              "      display:flex;\n",
              "      flex-wrap:wrap;\n",
              "      gap: 12px;\n",
              "    }\n",
              "\n",
              "    .colab-df-convert {\n",
              "      background-color: #E8F0FE;\n",
              "      border: none;\n",
              "      border-radius: 50%;\n",
              "      cursor: pointer;\n",
              "      display: none;\n",
              "      fill: #1967D2;\n",
              "      height: 32px;\n",
              "      padding: 0 0 0 0;\n",
              "      width: 32px;\n",
              "    }\n",
              "\n",
              "    .colab-df-convert:hover {\n",
              "      background-color: #E2EBFA;\n",
              "      box-shadow: 0px 1px 2px rgba(60, 64, 67, 0.3), 0px 1px 3px 1px rgba(60, 64, 67, 0.15);\n",
              "      fill: #174EA6;\n",
              "    }\n",
              "\n",
              "    [theme=dark] .colab-df-convert {\n",
              "      background-color: #3B4455;\n",
              "      fill: #D2E3FC;\n",
              "    }\n",
              "\n",
              "    [theme=dark] .colab-df-convert:hover {\n",
              "      background-color: #434B5C;\n",
              "      box-shadow: 0px 1px 3px 1px rgba(0, 0, 0, 0.15);\n",
              "      filter: drop-shadow(0px 1px 2px rgba(0, 0, 0, 0.3));\n",
              "      fill: #FFFFFF;\n",
              "    }\n",
              "  </style>\n",
              "\n",
              "      <script>\n",
              "        const buttonEl =\n",
              "          document.querySelector('#df-c606e74e-eef6-49ec-ba0f-bcbbd6dd7e4d button.colab-df-convert');\n",
              "        buttonEl.style.display =\n",
              "          google.colab.kernel.accessAllowed ? 'block' : 'none';\n",
              "\n",
              "        async function convertToInteractive(key) {\n",
              "          const element = document.querySelector('#df-c606e74e-eef6-49ec-ba0f-bcbbd6dd7e4d');\n",
              "          const dataTable =\n",
              "            await google.colab.kernel.invokeFunction('convertToInteractive',\n",
              "                                                     [key], {});\n",
              "          if (!dataTable) return;\n",
              "\n",
              "          const docLinkHtml = 'Like what you see? Visit the ' +\n",
              "            '<a target=\"_blank\" href=https://colab.research.google.com/notebooks/data_table.ipynb>data table notebook</a>'\n",
              "            + ' to learn more about interactive tables.';\n",
              "          element.innerHTML = '';\n",
              "          dataTable['output_type'] = 'display_data';\n",
              "          await google.colab.output.renderOutput(dataTable, element);\n",
              "          const docLink = document.createElement('div');\n",
              "          docLink.innerHTML = docLinkHtml;\n",
              "          element.appendChild(docLink);\n",
              "        }\n",
              "      </script>\n",
              "    </div>\n",
              "  </div>\n",
              "  "
            ]
          },
          "metadata": {},
          "execution_count": 36
        }
      ]
    },
    {
      "cell_type": "markdown",
      "source": [
        "###Histograma da distribuição proposta"
      ],
      "metadata": {
        "id": "rRaJ26PBxwfR"
      }
    },
    {
      "cell_type": "code",
      "source": [
        "plt.figure(figsize=(12,5))\n",
        "sns.histplot(data=ibge_sp['Classificacao_IDHM'])"
      ],
      "metadata": {
        "colab": {
          "base_uri": "https://localhost:8080/",
          "height": 352
        },
        "id": "3T8rzxMQxEJ2",
        "outputId": "9d90b1bf-1837-4833-ebf7-a96db8ec4ab5"
      },
      "execution_count": null,
      "outputs": [
        {
          "output_type": "execute_result",
          "data": {
            "text/plain": [
              "<matplotlib.axes._subplots.AxesSubplot at 0x7f88f5badbd0>"
            ]
          },
          "metadata": {},
          "execution_count": 38
        },
        {
          "output_type": "display_data",
          "data": {
            "text/plain": [
              "<Figure size 864x360 with 1 Axes>"
            ],
            "image/png": "[encoded data removed]"
          },
          "metadata": {
            "needs_background": "light"
          }
        }
      ]
    }
  ]
}